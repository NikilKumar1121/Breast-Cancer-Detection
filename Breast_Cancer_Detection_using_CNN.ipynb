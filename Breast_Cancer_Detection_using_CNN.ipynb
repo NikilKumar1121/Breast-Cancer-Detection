{
  "nbformat": 4,
  "nbformat_minor": 0,
  "metadata": {
    "colab": {
      "name": "Breast Cancer Detection using CNN",
      "provenance": [],
      "collapsed_sections": [],
      "include_colab_link": true
    },
    "kernelspec": {
      "name": "python3",
      "display_name": "Python 3"
    },
    "accelerator": "TPU"
  },
  "cells": [
    {
      "cell_type": "markdown",
      "metadata": {
        "id": "view-in-github",
        "colab_type": "text"
      },
      "source": [
        "<a href=\"https://colab.research.google.com/github/nikilstark/Breast-Cancer-Detection/blob/master/Breast_Cancer_Detection_using_CNN.ipynb\" target=\"_parent\"><img src=\"https://colab.research.google.com/assets/colab-badge.svg\" alt=\"Open In Colab\"/></a>"
      ]
    },
    {
      "cell_type": "code",
      "metadata": {
        "id": "RVRIBKnsfegx",
        "colab_type": "code",
        "outputId": "55ac2ac8-5c60-48f4-b5ae-bb42f846cb12",
        "colab": {
          "base_uri": "https://localhost:8080/",
          "height": 523
        }
      },
      "source": [
        "!pip install tensorflow-gpu==2.0.0-rc0"
      ],
      "execution_count": 0,
      "outputs": [
        {
          "output_type": "stream",
          "text": [
            "Collecting tensorflow-gpu==2.0.0-rc0\n",
            "\u001b[?25l  Downloading https://files.pythonhosted.org/packages/6a/12/8c64cc62149cc21c70c55018502831bbf4d42bd62bed196df7de6830d21b/tensorflow_gpu-2.0.0rc0-cp36-cp36m-manylinux2010_x86_64.whl (380.5MB)\n",
            "\u001b[K     |████████████████████████████████| 380.5MB 24kB/s \n",
            "\u001b[?25hRequirement already satisfied: keras-applications>=1.0.8 in /usr/local/lib/python3.6/dist-packages (from tensorflow-gpu==2.0.0-rc0) (1.0.8)\n",
            "Collecting tf-estimator-nightly<1.14.0.dev2019080602,>=1.14.0.dev2019080601\n",
            "\u001b[?25l  Downloading https://files.pythonhosted.org/packages/21/28/f2a27a62943d5f041e4a6fd404b2d21cb7c59b2242a4e73b03d9ba166552/tf_estimator_nightly-1.14.0.dev2019080601-py2.py3-none-any.whl (501kB)\n",
            "\u001b[K     |████████████████████████████████| 501kB 40.2MB/s \n",
            "\u001b[?25hRequirement already satisfied: numpy<2.0,>=1.16.0 in /usr/local/lib/python3.6/dist-packages (from tensorflow-gpu==2.0.0-rc0) (1.17.5)\n",
            "Requirement already satisfied: grpcio>=1.8.6 in /usr/local/lib/python3.6/dist-packages (from tensorflow-gpu==2.0.0-rc0) (1.27.1)\n",
            "Requirement already satisfied: absl-py>=0.7.0 in /usr/local/lib/python3.6/dist-packages (from tensorflow-gpu==2.0.0-rc0) (0.9.0)\n",
            "Collecting tb-nightly<1.15.0a20190807,>=1.15.0a20190806\n",
            "\u001b[?25l  Downloading https://files.pythonhosted.org/packages/bc/88/24b5fb7280e74c7cf65bde47c171547fd02afb3840cff41bcbe9270650f5/tb_nightly-1.15.0a20190806-py3-none-any.whl (4.3MB)\n",
            "\u001b[K     |████████████████████████████████| 4.3MB 40.9MB/s \n",
            "\u001b[?25hRequirement already satisfied: astor>=0.6.0 in /usr/local/lib/python3.6/dist-packages (from tensorflow-gpu==2.0.0-rc0) (0.8.1)\n",
            "Requirement already satisfied: wheel>=0.26 in /usr/local/lib/python3.6/dist-packages (from tensorflow-gpu==2.0.0-rc0) (0.34.2)\n",
            "Requirement already satisfied: gast>=0.2.0 in /usr/local/lib/python3.6/dist-packages (from tensorflow-gpu==2.0.0-rc0) (0.2.2)\n",
            "Requirement already satisfied: six>=1.10.0 in /usr/local/lib/python3.6/dist-packages (from tensorflow-gpu==2.0.0-rc0) (1.12.0)\n",
            "Requirement already satisfied: keras-preprocessing>=1.0.5 in /usr/local/lib/python3.6/dist-packages (from tensorflow-gpu==2.0.0-rc0) (1.1.0)\n",
            "Requirement already satisfied: wrapt>=1.11.1 in /usr/local/lib/python3.6/dist-packages (from tensorflow-gpu==2.0.0-rc0) (1.11.2)\n",
            "Requirement already satisfied: google-pasta>=0.1.6 in /usr/local/lib/python3.6/dist-packages (from tensorflow-gpu==2.0.0-rc0) (0.1.8)\n",
            "Requirement already satisfied: protobuf>=3.6.1 in /usr/local/lib/python3.6/dist-packages (from tensorflow-gpu==2.0.0-rc0) (3.10.0)\n",
            "Requirement already satisfied: termcolor>=1.1.0 in /usr/local/lib/python3.6/dist-packages (from tensorflow-gpu==2.0.0-rc0) (1.1.0)\n",
            "Requirement already satisfied: opt-einsum>=2.3.2 in /usr/local/lib/python3.6/dist-packages (from tensorflow-gpu==2.0.0-rc0) (3.1.0)\n",
            "Requirement already satisfied: h5py in /usr/local/lib/python3.6/dist-packages (from keras-applications>=1.0.8->tensorflow-gpu==2.0.0-rc0) (2.8.0)\n",
            "Requirement already satisfied: setuptools>=41.0.0 in /usr/local/lib/python3.6/dist-packages (from tb-nightly<1.15.0a20190807,>=1.15.0a20190806->tensorflow-gpu==2.0.0-rc0) (45.1.0)\n",
            "Requirement already satisfied: werkzeug>=0.11.15 in /usr/local/lib/python3.6/dist-packages (from tb-nightly<1.15.0a20190807,>=1.15.0a20190806->tensorflow-gpu==2.0.0-rc0) (1.0.0)\n",
            "Requirement already satisfied: markdown>=2.6.8 in /usr/local/lib/python3.6/dist-packages (from tb-nightly<1.15.0a20190807,>=1.15.0a20190806->tensorflow-gpu==2.0.0-rc0) (3.2.1)\n",
            "Installing collected packages: tf-estimator-nightly, tb-nightly, tensorflow-gpu\n",
            "Successfully installed tb-nightly-1.15.0a20190806 tensorflow-gpu-2.0.0rc0 tf-estimator-nightly-1.14.0.dev2019080601\n"
          ],
          "name": "stdout"
        }
      ]
    },
    {
      "cell_type": "code",
      "metadata": {
        "id": "KMn_dHaFgJgM",
        "colab_type": "code",
        "colab": {}
      },
      "source": [
        "import tensorflow as tf\n",
        "from tensorflow import keras\n",
        "from tensorflow.keras import Sequential\n",
        "from tensorflow.keras.layers import Flatten,Dense,Dropout,BatchNormalization,Conv1D,MaxPool1D\n",
        "from tensorflow.keras.optimizers import Adam"
      ],
      "execution_count": 0,
      "outputs": []
    },
    {
      "cell_type": "code",
      "metadata": {
        "id": "1zds1bZ-gtCN",
        "colab_type": "code",
        "colab": {}
      },
      "source": [
        "import pandas as pd\n",
        "import numpy as np\n",
        "import matplotlib.pyplot as plt\n",
        "import seaborn as sns\n",
        "from sklearn import datasets,metrics\n",
        "from sklearn.model_selection import train_test_split\n",
        "from sklearn.preprocessing import StandardScaler"
      ],
      "execution_count": 0,
      "outputs": []
    },
    {
      "cell_type": "code",
      "metadata": {
        "id": "nDbLvLA4hNRM",
        "colab_type": "code",
        "colab": {}
      },
      "source": [
        "cancer = datasets.load_breast_cancer()"
      ],
      "execution_count": 0,
      "outputs": []
    },
    {
      "cell_type": "code",
      "metadata": {
        "id": "50-AaZ88hWyr",
        "colab_type": "code",
        "outputId": "5ea36229-8260-4251-b5fd-9ad84a46fcdc",
        "colab": {
          "base_uri": "https://localhost:8080/",
          "height": 1000
        }
      },
      "source": [
        "print(cancer.DESCR)"
      ],
      "execution_count": 0,
      "outputs": [
        {
          "output_type": "stream",
          "text": [
            ".. _breast_cancer_dataset:\n",
            "\n",
            "Breast cancer wisconsin (diagnostic) dataset\n",
            "--------------------------------------------\n",
            "\n",
            "**Data Set Characteristics:**\n",
            "\n",
            "    :Number of Instances: 569\n",
            "\n",
            "    :Number of Attributes: 30 numeric, predictive attributes and the class\n",
            "\n",
            "    :Attribute Information:\n",
            "        - radius (mean of distances from center to points on the perimeter)\n",
            "        - texture (standard deviation of gray-scale values)\n",
            "        - perimeter\n",
            "        - area\n",
            "        - smoothness (local variation in radius lengths)\n",
            "        - compactness (perimeter^2 / area - 1.0)\n",
            "        - concavity (severity of concave portions of the contour)\n",
            "        - concave points (number of concave portions of the contour)\n",
            "        - symmetry \n",
            "        - fractal dimension (\"coastline approximation\" - 1)\n",
            "\n",
            "        The mean, standard error, and \"worst\" or largest (mean of the three\n",
            "        largest values) of these features were computed for each image,\n",
            "        resulting in 30 features.  For instance, field 3 is Mean Radius, field\n",
            "        13 is Radius SE, field 23 is Worst Radius.\n",
            "\n",
            "        - class:\n",
            "                - WDBC-Malignant\n",
            "                - WDBC-Benign\n",
            "\n",
            "    :Summary Statistics:\n",
            "\n",
            "    ===================================== ====== ======\n",
            "                                           Min    Max\n",
            "    ===================================== ====== ======\n",
            "    radius (mean):                        6.981  28.11\n",
            "    texture (mean):                       9.71   39.28\n",
            "    perimeter (mean):                     43.79  188.5\n",
            "    area (mean):                          143.5  2501.0\n",
            "    smoothness (mean):                    0.053  0.163\n",
            "    compactness (mean):                   0.019  0.345\n",
            "    concavity (mean):                     0.0    0.427\n",
            "    concave points (mean):                0.0    0.201\n",
            "    symmetry (mean):                      0.106  0.304\n",
            "    fractal dimension (mean):             0.05   0.097\n",
            "    radius (standard error):              0.112  2.873\n",
            "    texture (standard error):             0.36   4.885\n",
            "    perimeter (standard error):           0.757  21.98\n",
            "    area (standard error):                6.802  542.2\n",
            "    smoothness (standard error):          0.002  0.031\n",
            "    compactness (standard error):         0.002  0.135\n",
            "    concavity (standard error):           0.0    0.396\n",
            "    concave points (standard error):      0.0    0.053\n",
            "    symmetry (standard error):            0.008  0.079\n",
            "    fractal dimension (standard error):   0.001  0.03\n",
            "    radius (worst):                       7.93   36.04\n",
            "    texture (worst):                      12.02  49.54\n",
            "    perimeter (worst):                    50.41  251.2\n",
            "    area (worst):                         185.2  4254.0\n",
            "    smoothness (worst):                   0.071  0.223\n",
            "    compactness (worst):                  0.027  1.058\n",
            "    concavity (worst):                    0.0    1.252\n",
            "    concave points (worst):               0.0    0.291\n",
            "    symmetry (worst):                     0.156  0.664\n",
            "    fractal dimension (worst):            0.055  0.208\n",
            "    ===================================== ====== ======\n",
            "\n",
            "    :Missing Attribute Values: None\n",
            "\n",
            "    :Class Distribution: 212 - Malignant, 357 - Benign\n",
            "\n",
            "    :Creator:  Dr. William H. Wolberg, W. Nick Street, Olvi L. Mangasarian\n",
            "\n",
            "    :Donor: Nick Street\n",
            "\n",
            "    :Date: November, 1995\n",
            "\n",
            "This is a copy of UCI ML Breast Cancer Wisconsin (Diagnostic) datasets.\n",
            "https://goo.gl/U2Uwz2\n",
            "\n",
            "Features are computed from a digitized image of a fine needle\n",
            "aspirate (FNA) of a breast mass.  They describe\n",
            "characteristics of the cell nuclei present in the image.\n",
            "\n",
            "Separating plane described above was obtained using\n",
            "Multisurface Method-Tree (MSM-T) [K. P. Bennett, \"Decision Tree\n",
            "Construction Via Linear Programming.\" Proceedings of the 4th\n",
            "Midwest Artificial Intelligence and Cognitive Science Society,\n",
            "pp. 97-101, 1992], a classification method which uses linear\n",
            "programming to construct a decision tree.  Relevant features\n",
            "were selected using an exhaustive search in the space of 1-4\n",
            "features and 1-3 separating planes.\n",
            "\n",
            "The actual linear program used to obtain the separating plane\n",
            "in the 3-dimensional space is that described in:\n",
            "[K. P. Bennett and O. L. Mangasarian: \"Robust Linear\n",
            "Programming Discrimination of Two Linearly Inseparable Sets\",\n",
            "Optimization Methods and Software 1, 1992, 23-34].\n",
            "\n",
            "This database is also available through the UW CS ftp server:\n",
            "\n",
            "ftp ftp.cs.wisc.edu\n",
            "cd math-prog/cpo-dataset/machine-learn/WDBC/\n",
            "\n",
            ".. topic:: References\n",
            "\n",
            "   - W.N. Street, W.H. Wolberg and O.L. Mangasarian. Nuclear feature extraction \n",
            "     for breast tumor diagnosis. IS&T/SPIE 1993 International Symposium on \n",
            "     Electronic Imaging: Science and Technology, volume 1905, pages 861-870,\n",
            "     San Jose, CA, 1993.\n",
            "   - O.L. Mangasarian, W.N. Street and W.H. Wolberg. Breast cancer diagnosis and \n",
            "     prognosis via linear programming. Operations Research, 43(4), pages 570-577, \n",
            "     July-August 1995.\n",
            "   - W.H. Wolberg, W.N. Street, and O.L. Mangasarian. Machine learning techniques\n",
            "     to diagnose breast cancer from fine-needle aspirates. Cancer Letters 77 (1994) \n",
            "     163-171.\n"
          ],
          "name": "stdout"
        }
      ]
    },
    {
      "cell_type": "code",
      "metadata": {
        "id": "aAIT9gDyhapT",
        "colab_type": "code",
        "outputId": "06ebb777-c029-4874-d634-9b7af50e06ea",
        "colab": {
          "base_uri": "https://localhost:8080/",
          "height": 254
        }
      },
      "source": [
        "x = pd.DataFrame(data= cancer.data, columns= cancer.feature_names)\n",
        "x.head(5)"
      ],
      "execution_count": 0,
      "outputs": [
        {
          "output_type": "execute_result",
          "data": {
            "text/html": [
              "<div>\n",
              "<style scoped>\n",
              "    .dataframe tbody tr th:only-of-type {\n",
              "        vertical-align: middle;\n",
              "    }\n",
              "\n",
              "    .dataframe tbody tr th {\n",
              "        vertical-align: top;\n",
              "    }\n",
              "\n",
              "    .dataframe thead th {\n",
              "        text-align: right;\n",
              "    }\n",
              "</style>\n",
              "<table border=\"1\" class=\"dataframe\">\n",
              "  <thead>\n",
              "    <tr style=\"text-align: right;\">\n",
              "      <th></th>\n",
              "      <th>mean radius</th>\n",
              "      <th>mean texture</th>\n",
              "      <th>mean perimeter</th>\n",
              "      <th>mean area</th>\n",
              "      <th>mean smoothness</th>\n",
              "      <th>mean compactness</th>\n",
              "      <th>mean concavity</th>\n",
              "      <th>mean concave points</th>\n",
              "      <th>mean symmetry</th>\n",
              "      <th>mean fractal dimension</th>\n",
              "      <th>radius error</th>\n",
              "      <th>texture error</th>\n",
              "      <th>perimeter error</th>\n",
              "      <th>area error</th>\n",
              "      <th>smoothness error</th>\n",
              "      <th>compactness error</th>\n",
              "      <th>concavity error</th>\n",
              "      <th>concave points error</th>\n",
              "      <th>symmetry error</th>\n",
              "      <th>fractal dimension error</th>\n",
              "      <th>worst radius</th>\n",
              "      <th>worst texture</th>\n",
              "      <th>worst perimeter</th>\n",
              "      <th>worst area</th>\n",
              "      <th>worst smoothness</th>\n",
              "      <th>worst compactness</th>\n",
              "      <th>worst concavity</th>\n",
              "      <th>worst concave points</th>\n",
              "      <th>worst symmetry</th>\n",
              "      <th>worst fractal dimension</th>\n",
              "    </tr>\n",
              "  </thead>\n",
              "  <tbody>\n",
              "    <tr>\n",
              "      <th>0</th>\n",
              "      <td>17.99</td>\n",
              "      <td>10.38</td>\n",
              "      <td>122.80</td>\n",
              "      <td>1001.0</td>\n",
              "      <td>0.11840</td>\n",
              "      <td>0.27760</td>\n",
              "      <td>0.3001</td>\n",
              "      <td>0.14710</td>\n",
              "      <td>0.2419</td>\n",
              "      <td>0.07871</td>\n",
              "      <td>1.0950</td>\n",
              "      <td>0.9053</td>\n",
              "      <td>8.589</td>\n",
              "      <td>153.40</td>\n",
              "      <td>0.006399</td>\n",
              "      <td>0.04904</td>\n",
              "      <td>0.05373</td>\n",
              "      <td>0.01587</td>\n",
              "      <td>0.03003</td>\n",
              "      <td>0.006193</td>\n",
              "      <td>25.38</td>\n",
              "      <td>17.33</td>\n",
              "      <td>184.60</td>\n",
              "      <td>2019.0</td>\n",
              "      <td>0.1622</td>\n",
              "      <td>0.6656</td>\n",
              "      <td>0.7119</td>\n",
              "      <td>0.2654</td>\n",
              "      <td>0.4601</td>\n",
              "      <td>0.11890</td>\n",
              "    </tr>\n",
              "    <tr>\n",
              "      <th>1</th>\n",
              "      <td>20.57</td>\n",
              "      <td>17.77</td>\n",
              "      <td>132.90</td>\n",
              "      <td>1326.0</td>\n",
              "      <td>0.08474</td>\n",
              "      <td>0.07864</td>\n",
              "      <td>0.0869</td>\n",
              "      <td>0.07017</td>\n",
              "      <td>0.1812</td>\n",
              "      <td>0.05667</td>\n",
              "      <td>0.5435</td>\n",
              "      <td>0.7339</td>\n",
              "      <td>3.398</td>\n",
              "      <td>74.08</td>\n",
              "      <td>0.005225</td>\n",
              "      <td>0.01308</td>\n",
              "      <td>0.01860</td>\n",
              "      <td>0.01340</td>\n",
              "      <td>0.01389</td>\n",
              "      <td>0.003532</td>\n",
              "      <td>24.99</td>\n",
              "      <td>23.41</td>\n",
              "      <td>158.80</td>\n",
              "      <td>1956.0</td>\n",
              "      <td>0.1238</td>\n",
              "      <td>0.1866</td>\n",
              "      <td>0.2416</td>\n",
              "      <td>0.1860</td>\n",
              "      <td>0.2750</td>\n",
              "      <td>0.08902</td>\n",
              "    </tr>\n",
              "    <tr>\n",
              "      <th>2</th>\n",
              "      <td>19.69</td>\n",
              "      <td>21.25</td>\n",
              "      <td>130.00</td>\n",
              "      <td>1203.0</td>\n",
              "      <td>0.10960</td>\n",
              "      <td>0.15990</td>\n",
              "      <td>0.1974</td>\n",
              "      <td>0.12790</td>\n",
              "      <td>0.2069</td>\n",
              "      <td>0.05999</td>\n",
              "      <td>0.7456</td>\n",
              "      <td>0.7869</td>\n",
              "      <td>4.585</td>\n",
              "      <td>94.03</td>\n",
              "      <td>0.006150</td>\n",
              "      <td>0.04006</td>\n",
              "      <td>0.03832</td>\n",
              "      <td>0.02058</td>\n",
              "      <td>0.02250</td>\n",
              "      <td>0.004571</td>\n",
              "      <td>23.57</td>\n",
              "      <td>25.53</td>\n",
              "      <td>152.50</td>\n",
              "      <td>1709.0</td>\n",
              "      <td>0.1444</td>\n",
              "      <td>0.4245</td>\n",
              "      <td>0.4504</td>\n",
              "      <td>0.2430</td>\n",
              "      <td>0.3613</td>\n",
              "      <td>0.08758</td>\n",
              "    </tr>\n",
              "    <tr>\n",
              "      <th>3</th>\n",
              "      <td>11.42</td>\n",
              "      <td>20.38</td>\n",
              "      <td>77.58</td>\n",
              "      <td>386.1</td>\n",
              "      <td>0.14250</td>\n",
              "      <td>0.28390</td>\n",
              "      <td>0.2414</td>\n",
              "      <td>0.10520</td>\n",
              "      <td>0.2597</td>\n",
              "      <td>0.09744</td>\n",
              "      <td>0.4956</td>\n",
              "      <td>1.1560</td>\n",
              "      <td>3.445</td>\n",
              "      <td>27.23</td>\n",
              "      <td>0.009110</td>\n",
              "      <td>0.07458</td>\n",
              "      <td>0.05661</td>\n",
              "      <td>0.01867</td>\n",
              "      <td>0.05963</td>\n",
              "      <td>0.009208</td>\n",
              "      <td>14.91</td>\n",
              "      <td>26.50</td>\n",
              "      <td>98.87</td>\n",
              "      <td>567.7</td>\n",
              "      <td>0.2098</td>\n",
              "      <td>0.8663</td>\n",
              "      <td>0.6869</td>\n",
              "      <td>0.2575</td>\n",
              "      <td>0.6638</td>\n",
              "      <td>0.17300</td>\n",
              "    </tr>\n",
              "    <tr>\n",
              "      <th>4</th>\n",
              "      <td>20.29</td>\n",
              "      <td>14.34</td>\n",
              "      <td>135.10</td>\n",
              "      <td>1297.0</td>\n",
              "      <td>0.10030</td>\n",
              "      <td>0.13280</td>\n",
              "      <td>0.1980</td>\n",
              "      <td>0.10430</td>\n",
              "      <td>0.1809</td>\n",
              "      <td>0.05883</td>\n",
              "      <td>0.7572</td>\n",
              "      <td>0.7813</td>\n",
              "      <td>5.438</td>\n",
              "      <td>94.44</td>\n",
              "      <td>0.011490</td>\n",
              "      <td>0.02461</td>\n",
              "      <td>0.05688</td>\n",
              "      <td>0.01885</td>\n",
              "      <td>0.01756</td>\n",
              "      <td>0.005115</td>\n",
              "      <td>22.54</td>\n",
              "      <td>16.67</td>\n",
              "      <td>152.20</td>\n",
              "      <td>1575.0</td>\n",
              "      <td>0.1374</td>\n",
              "      <td>0.2050</td>\n",
              "      <td>0.4000</td>\n",
              "      <td>0.1625</td>\n",
              "      <td>0.2364</td>\n",
              "      <td>0.07678</td>\n",
              "    </tr>\n",
              "  </tbody>\n",
              "</table>\n",
              "</div>"
            ],
            "text/plain": [
              "   mean radius  mean texture  ...  worst symmetry  worst fractal dimension\n",
              "0        17.99         10.38  ...          0.4601                  0.11890\n",
              "1        20.57         17.77  ...          0.2750                  0.08902\n",
              "2        19.69         21.25  ...          0.3613                  0.08758\n",
              "3        11.42         20.38  ...          0.6638                  0.17300\n",
              "4        20.29         14.34  ...          0.2364                  0.07678\n",
              "\n",
              "[5 rows x 30 columns]"
            ]
          },
          "metadata": {
            "tags": []
          },
          "execution_count": 10
        }
      ]
    },
    {
      "cell_type": "code",
      "metadata": {
        "id": "m0Cck5lMh8HJ",
        "colab_type": "code",
        "outputId": "a7cb7d89-fd58-4c33-b8f3-1535bb670de7",
        "colab": {
          "base_uri": "https://localhost:8080/",
          "height": 452
        }
      },
      "source": [
        "y = cancer.target\n",
        "y"
      ],
      "execution_count": 0,
      "outputs": [
        {
          "output_type": "execute_result",
          "data": {
            "text/plain": [
              "array([0, 0, 0, 0, 0, 0, 0, 0, 0, 0, 0, 0, 0, 0, 0, 0, 0, 0, 0, 1, 1, 1,\n",
              "       0, 0, 0, 0, 0, 0, 0, 0, 0, 0, 0, 0, 0, 0, 0, 1, 0, 0, 0, 0, 0, 0,\n",
              "       0, 0, 1, 0, 1, 1, 1, 1, 1, 0, 0, 1, 0, 0, 1, 1, 1, 1, 0, 1, 0, 0,\n",
              "       1, 1, 1, 1, 0, 1, 0, 0, 1, 0, 1, 0, 0, 1, 1, 1, 0, 0, 1, 0, 0, 0,\n",
              "       1, 1, 1, 0, 1, 1, 0, 0, 1, 1, 1, 0, 0, 1, 1, 1, 1, 0, 1, 1, 0, 1,\n",
              "       1, 1, 1, 1, 1, 1, 1, 0, 0, 0, 1, 0, 0, 1, 1, 1, 0, 0, 1, 0, 1, 0,\n",
              "       0, 1, 0, 0, 1, 1, 0, 1, 1, 0, 1, 1, 1, 1, 0, 1, 1, 1, 1, 1, 1, 1,\n",
              "       1, 1, 0, 1, 1, 1, 1, 0, 0, 1, 0, 1, 1, 0, 0, 1, 1, 0, 0, 1, 1, 1,\n",
              "       1, 0, 1, 1, 0, 0, 0, 1, 0, 1, 0, 1, 1, 1, 0, 1, 1, 0, 0, 1, 0, 0,\n",
              "       0, 0, 1, 0, 0, 0, 1, 0, 1, 0, 1, 1, 0, 1, 0, 0, 0, 0, 1, 1, 0, 0,\n",
              "       1, 1, 1, 0, 1, 1, 1, 1, 1, 0, 0, 1, 1, 0, 1, 1, 0, 0, 1, 0, 1, 1,\n",
              "       1, 1, 0, 1, 1, 1, 1, 1, 0, 1, 0, 0, 0, 0, 0, 0, 0, 0, 0, 0, 0, 0,\n",
              "       0, 0, 1, 1, 1, 1, 1, 1, 0, 1, 0, 1, 1, 0, 1, 1, 0, 1, 0, 0, 1, 1,\n",
              "       1, 1, 1, 1, 1, 1, 1, 1, 1, 1, 1, 0, 1, 1, 0, 1, 0, 1, 1, 1, 1, 1,\n",
              "       1, 1, 1, 1, 1, 1, 1, 1, 1, 0, 1, 1, 1, 0, 1, 0, 1, 1, 1, 1, 0, 0,\n",
              "       0, 1, 1, 1, 1, 0, 1, 0, 1, 0, 1, 1, 1, 0, 1, 1, 1, 1, 1, 1, 1, 0,\n",
              "       0, 0, 1, 1, 1, 1, 1, 1, 1, 1, 1, 1, 1, 0, 0, 1, 0, 0, 0, 1, 0, 0,\n",
              "       1, 1, 1, 1, 1, 0, 1, 1, 1, 1, 1, 0, 1, 1, 1, 0, 1, 1, 0, 0, 1, 1,\n",
              "       1, 1, 1, 1, 0, 1, 1, 1, 1, 1, 1, 1, 0, 1, 1, 1, 1, 1, 0, 1, 1, 0,\n",
              "       1, 1, 1, 1, 1, 1, 1, 1, 1, 1, 1, 1, 0, 1, 0, 0, 1, 0, 1, 1, 1, 1,\n",
              "       1, 0, 1, 1, 0, 1, 0, 1, 1, 0, 1, 0, 1, 1, 1, 1, 1, 1, 1, 1, 0, 0,\n",
              "       1, 1, 1, 1, 1, 1, 0, 1, 1, 1, 1, 1, 1, 1, 1, 1, 1, 0, 1, 1, 1, 1,\n",
              "       1, 1, 1, 0, 1, 0, 1, 1, 0, 1, 1, 1, 1, 1, 0, 0, 1, 0, 1, 0, 1, 1,\n",
              "       1, 1, 1, 0, 1, 1, 0, 1, 0, 1, 0, 0, 1, 1, 1, 0, 1, 1, 1, 1, 1, 1,\n",
              "       1, 1, 1, 1, 1, 0, 1, 0, 0, 1, 1, 1, 1, 1, 1, 1, 1, 1, 1, 1, 1, 1,\n",
              "       1, 1, 1, 1, 1, 1, 1, 1, 1, 1, 1, 1, 0, 0, 0, 0, 0, 0, 1])"
            ]
          },
          "metadata": {
            "tags": []
          },
          "execution_count": 14
        }
      ]
    },
    {
      "cell_type": "code",
      "metadata": {
        "id": "Zc_DQLCQiPtp",
        "colab_type": "code",
        "outputId": "14c9ed78-edd4-4c66-a9f9-4c8add1ea740",
        "colab": {
          "base_uri": "https://localhost:8080/",
          "height": 33
        }
      },
      "source": [
        "x.shape"
      ],
      "execution_count": 0,
      "outputs": [
        {
          "output_type": "execute_result",
          "data": {
            "text/plain": [
              "(569, 30)"
            ]
          },
          "metadata": {
            "tags": []
          },
          "execution_count": 15
        }
      ]
    },
    {
      "cell_type": "code",
      "metadata": {
        "id": "-HCgsbODiaUX",
        "colab_type": "code",
        "colab": {}
      },
      "source": [
        "x_train,x_test,y_train,y_test =train_test_split(x,y,test_size = 0.2 , random_state=1 ,stratify =y)"
      ],
      "execution_count": 0,
      "outputs": []
    },
    {
      "cell_type": "code",
      "metadata": {
        "id": "fq4uy4qfi2NA",
        "colab_type": "code",
        "outputId": "c92e7ad4-466f-4e68-aa24-e7d05cea50e1",
        "colab": {
          "base_uri": "https://localhost:8080/",
          "height": 33
        }
      },
      "source": [
        "x_train.shape"
      ],
      "execution_count": 0,
      "outputs": [
        {
          "output_type": "execute_result",
          "data": {
            "text/plain": [
              "(455, 30)"
            ]
          },
          "metadata": {
            "tags": []
          },
          "execution_count": 17
        }
      ]
    },
    {
      "cell_type": "code",
      "metadata": {
        "id": "07HLeYwki5Q_",
        "colab_type": "code",
        "outputId": "3bd65b52-b5af-40fa-db2e-4bcb07eb3b6f",
        "colab": {
          "base_uri": "https://localhost:8080/",
          "height": 33
        }
      },
      "source": [
        "x_test.shape"
      ],
      "execution_count": 0,
      "outputs": [
        {
          "output_type": "execute_result",
          "data": {
            "text/plain": [
              "(114, 30)"
            ]
          },
          "metadata": {
            "tags": []
          },
          "execution_count": 18
        }
      ]
    },
    {
      "cell_type": "code",
      "metadata": {
        "id": "-f8Sxk_AjWso",
        "colab_type": "code",
        "colab": {}
      },
      "source": [
        "scaler = StandardScaler()\n",
        "x_train = scaler.fit_transform(x_train)\n",
        "x_test = scaler.fit_transform(x_test)"
      ],
      "execution_count": 0,
      "outputs": []
    },
    {
      "cell_type": "code",
      "metadata": {
        "id": "QW4U17jGi8tv",
        "colab_type": "code",
        "colab": {}
      },
      "source": [
        "x_train = x_train.reshape(455,30,1)\n",
        "x_test = x_test.reshape(114,30,1)"
      ],
      "execution_count": 0,
      "outputs": []
    },
    {
      "cell_type": "code",
      "metadata": {
        "id": "uZ9dc-Jkj0ml",
        "colab_type": "code",
        "colab": {}
      },
      "source": [
        "epochs = 100\n",
        "model = Sequential()\n",
        "model.add(Conv1D(filters=32,kernel_size=2,activation='relu',input_shape= (30,1)))\n",
        "model.add(BatchNormalization())\n",
        "model.add(Dropout(0.2))\n",
        "\n",
        "model.add(Conv1D(filters=64,kernel_size=2,activation='relu'))\n",
        "model.add(BatchNormalization())\n",
        "model.add(Dropout(0.5))\n",
        "\n",
        "model.add(Flatten())\n",
        "model.add(Dense(64,activation='relu'))\n",
        "model.add(Dropout(0.5))\n",
        "\n",
        "model.add(Dense(1,activation='sigmoid'))"
      ],
      "execution_count": 0,
      "outputs": []
    },
    {
      "cell_type": "code",
      "metadata": {
        "id": "8K29p3mMlLLq",
        "colab_type": "code",
        "outputId": "161d5c8e-0f76-482e-fc37-0f6a87c290b2",
        "colab": {
          "base_uri": "https://localhost:8080/",
          "height": 486
        }
      },
      "source": [
        "model.summary()"
      ],
      "execution_count": 0,
      "outputs": [
        {
          "output_type": "stream",
          "text": [
            "Model: \"sequential_1\"\n",
            "_________________________________________________________________\n",
            "Layer (type)                 Output Shape              Param #   \n",
            "=================================================================\n",
            "conv1d_2 (Conv1D)            (None, 29, 32)            96        \n",
            "_________________________________________________________________\n",
            "batch_normalization_2 (Batch (None, 29, 32)            128       \n",
            "_________________________________________________________________\n",
            "dropout_3 (Dropout)          (None, 29, 32)            0         \n",
            "_________________________________________________________________\n",
            "conv1d_3 (Conv1D)            (None, 28, 64)            4160      \n",
            "_________________________________________________________________\n",
            "batch_normalization_3 (Batch (None, 28, 64)            256       \n",
            "_________________________________________________________________\n",
            "dropout_4 (Dropout)          (None, 28, 64)            0         \n",
            "_________________________________________________________________\n",
            "flatten_1 (Flatten)          (None, 1792)              0         \n",
            "_________________________________________________________________\n",
            "dense_2 (Dense)              (None, 64)                114752    \n",
            "_________________________________________________________________\n",
            "dropout_5 (Dropout)          (None, 64)                0         \n",
            "_________________________________________________________________\n",
            "dense_3 (Dense)              (None, 1)                 65        \n",
            "=================================================================\n",
            "Total params: 119,457\n",
            "Trainable params: 119,265\n",
            "Non-trainable params: 192\n",
            "_________________________________________________________________\n"
          ],
          "name": "stdout"
        }
      ]
    },
    {
      "cell_type": "code",
      "metadata": {
        "id": "uZXr2HZblNPZ",
        "colab_type": "code",
        "colab": {}
      },
      "source": [
        "model.compile(optimizer=Adam(lr = 0.00005),loss='binary_crossentropy',metrics=['accuracy'])"
      ],
      "execution_count": 0,
      "outputs": []
    },
    {
      "cell_type": "code",
      "metadata": {
        "id": "31di79IxlhRz",
        "colab_type": "code",
        "outputId": "6adf84db-22dc-460e-dafc-e46260e25994",
        "colab": {
          "base_uri": "https://localhost:8080/",
          "height": 1000
        }
      },
      "source": [
        "history = model.fit(x_train,y_train,epochs=epochs,validation_data=(x_test,y_test),verbose=1)"
      ],
      "execution_count": 0,
      "outputs": [
        {
          "output_type": "stream",
          "text": [
            "Train on 455 samples, validate on 114 samples\n",
            "Epoch 1/100\n",
            "455/455 [==============================] - 2s 4ms/sample - loss: 1.0684 - accuracy: 0.5670 - val_loss: 0.6383 - val_accuracy: 0.7895\n",
            "Epoch 2/100\n",
            "455/455 [==============================] - 0s 422us/sample - loss: 0.7958 - accuracy: 0.6703 - val_loss: 0.5930 - val_accuracy: 0.8596\n",
            "Epoch 3/100\n",
            "455/455 [==============================] - 0s 406us/sample - loss: 0.7116 - accuracy: 0.7121 - val_loss: 0.5481 - val_accuracy: 0.8860\n",
            "Epoch 4/100\n",
            "455/455 [==============================] - 0s 438us/sample - loss: 0.5429 - accuracy: 0.7473 - val_loss: 0.5049 - val_accuracy: 0.8860\n",
            "Epoch 5/100\n",
            "455/455 [==============================] - 0s 433us/sample - loss: 0.5119 - accuracy: 0.8110 - val_loss: 0.4639 - val_accuracy: 0.8860\n",
            "Epoch 6/100\n",
            "455/455 [==============================] - 0s 435us/sample - loss: 0.4318 - accuracy: 0.7978 - val_loss: 0.4246 - val_accuracy: 0.8947\n",
            "Epoch 7/100\n",
            "455/455 [==============================] - 0s 406us/sample - loss: 0.3750 - accuracy: 0.8505 - val_loss: 0.3897 - val_accuracy: 0.9035\n",
            "Epoch 8/100\n",
            "455/455 [==============================] - 0s 433us/sample - loss: 0.3391 - accuracy: 0.8703 - val_loss: 0.3568 - val_accuracy: 0.9123\n",
            "Epoch 9/100\n",
            "455/455 [==============================] - 0s 431us/sample - loss: 0.3118 - accuracy: 0.8725 - val_loss: 0.3267 - val_accuracy: 0.9123\n",
            "Epoch 10/100\n",
            "455/455 [==============================] - 0s 434us/sample - loss: 0.2601 - accuracy: 0.8835 - val_loss: 0.3003 - val_accuracy: 0.9123\n",
            "Epoch 11/100\n",
            "455/455 [==============================] - 0s 411us/sample - loss: 0.3180 - accuracy: 0.8615 - val_loss: 0.2756 - val_accuracy: 0.9123\n",
            "Epoch 12/100\n",
            "455/455 [==============================] - 0s 424us/sample - loss: 0.2984 - accuracy: 0.8681 - val_loss: 0.2526 - val_accuracy: 0.9123\n",
            "Epoch 13/100\n",
            "455/455 [==============================] - 0s 408us/sample - loss: 0.2792 - accuracy: 0.9099 - val_loss: 0.2334 - val_accuracy: 0.9123\n",
            "Epoch 14/100\n",
            "455/455 [==============================] - 0s 413us/sample - loss: 0.2150 - accuracy: 0.8989 - val_loss: 0.2155 - val_accuracy: 0.9123\n",
            "Epoch 15/100\n",
            "455/455 [==============================] - 0s 424us/sample - loss: 0.2440 - accuracy: 0.8857 - val_loss: 0.2009 - val_accuracy: 0.9123\n",
            "Epoch 16/100\n",
            "455/455 [==============================] - 0s 424us/sample - loss: 0.1916 - accuracy: 0.9275 - val_loss: 0.1877 - val_accuracy: 0.9211\n",
            "Epoch 17/100\n",
            "455/455 [==============================] - 0s 440us/sample - loss: 0.2510 - accuracy: 0.8989 - val_loss: 0.1762 - val_accuracy: 0.9211\n",
            "Epoch 18/100\n",
            "455/455 [==============================] - 0s 427us/sample - loss: 0.2448 - accuracy: 0.9011 - val_loss: 0.1650 - val_accuracy: 0.9211\n",
            "Epoch 19/100\n",
            "455/455 [==============================] - 0s 449us/sample - loss: 0.1610 - accuracy: 0.9429 - val_loss: 0.1573 - val_accuracy: 0.9211\n",
            "Epoch 20/100\n",
            "455/455 [==============================] - 0s 427us/sample - loss: 0.1898 - accuracy: 0.9209 - val_loss: 0.1486 - val_accuracy: 0.9298\n",
            "Epoch 21/100\n",
            "455/455 [==============================] - 0s 422us/sample - loss: 0.1834 - accuracy: 0.9143 - val_loss: 0.1402 - val_accuracy: 0.9386\n",
            "Epoch 22/100\n",
            "455/455 [==============================] - 0s 421us/sample - loss: 0.1989 - accuracy: 0.9253 - val_loss: 0.1333 - val_accuracy: 0.9474\n",
            "Epoch 23/100\n",
            "455/455 [==============================] - 0s 416us/sample - loss: 0.1491 - accuracy: 0.9473 - val_loss: 0.1273 - val_accuracy: 0.9474\n",
            "Epoch 24/100\n",
            "455/455 [==============================] - 0s 434us/sample - loss: 0.1717 - accuracy: 0.9209 - val_loss: 0.1218 - val_accuracy: 0.9561\n",
            "Epoch 25/100\n",
            "455/455 [==============================] - 0s 423us/sample - loss: 0.1713 - accuracy: 0.9297 - val_loss: 0.1175 - val_accuracy: 0.9561\n",
            "Epoch 26/100\n",
            "455/455 [==============================] - 0s 428us/sample - loss: 0.1545 - accuracy: 0.9407 - val_loss: 0.1134 - val_accuracy: 0.9561\n",
            "Epoch 27/100\n",
            "455/455 [==============================] - 0s 428us/sample - loss: 0.1538 - accuracy: 0.9341 - val_loss: 0.1089 - val_accuracy: 0.9561\n",
            "Epoch 28/100\n",
            "455/455 [==============================] - 0s 417us/sample - loss: 0.1717 - accuracy: 0.9429 - val_loss: 0.1040 - val_accuracy: 0.9561\n",
            "Epoch 29/100\n",
            "455/455 [==============================] - 0s 436us/sample - loss: 0.1636 - accuracy: 0.9429 - val_loss: 0.1012 - val_accuracy: 0.9561\n",
            "Epoch 30/100\n",
            "455/455 [==============================] - 0s 415us/sample - loss: 0.1406 - accuracy: 0.9473 - val_loss: 0.0995 - val_accuracy: 0.9561\n",
            "Epoch 31/100\n",
            "455/455 [==============================] - 0s 427us/sample - loss: 0.1503 - accuracy: 0.9495 - val_loss: 0.0983 - val_accuracy: 0.9561\n",
            "Epoch 32/100\n",
            "455/455 [==============================] - 0s 435us/sample - loss: 0.1591 - accuracy: 0.9429 - val_loss: 0.0956 - val_accuracy: 0.9649\n",
            "Epoch 33/100\n",
            "455/455 [==============================] - 0s 453us/sample - loss: 0.1368 - accuracy: 0.9451 - val_loss: 0.0939 - val_accuracy: 0.9649\n",
            "Epoch 34/100\n",
            "455/455 [==============================] - 0s 427us/sample - loss: 0.1074 - accuracy: 0.9516 - val_loss: 0.0928 - val_accuracy: 0.9649\n",
            "Epoch 35/100\n",
            "455/455 [==============================] - 0s 431us/sample - loss: 0.1433 - accuracy: 0.9385 - val_loss: 0.0923 - val_accuracy: 0.9649\n",
            "Epoch 36/100\n",
            "455/455 [==============================] - 0s 419us/sample - loss: 0.1928 - accuracy: 0.9275 - val_loss: 0.0917 - val_accuracy: 0.9649\n",
            "Epoch 37/100\n",
            "455/455 [==============================] - 0s 422us/sample - loss: 0.1800 - accuracy: 0.9275 - val_loss: 0.0899 - val_accuracy: 0.9649\n",
            "Epoch 38/100\n",
            "455/455 [==============================] - 0s 416us/sample - loss: 0.1629 - accuracy: 0.9385 - val_loss: 0.0889 - val_accuracy: 0.9649\n",
            "Epoch 39/100\n",
            "455/455 [==============================] - 0s 422us/sample - loss: 0.1123 - accuracy: 0.9560 - val_loss: 0.0897 - val_accuracy: 0.9649\n",
            "Epoch 40/100\n",
            "455/455 [==============================] - 0s 411us/sample - loss: 0.1686 - accuracy: 0.9363 - val_loss: 0.0898 - val_accuracy: 0.9649\n",
            "Epoch 41/100\n",
            "455/455 [==============================] - 0s 438us/sample - loss: 0.1151 - accuracy: 0.9582 - val_loss: 0.0879 - val_accuracy: 0.9649\n",
            "Epoch 42/100\n",
            "455/455 [==============================] - 0s 440us/sample - loss: 0.1195 - accuracy: 0.9560 - val_loss: 0.0871 - val_accuracy: 0.9649\n",
            "Epoch 43/100\n",
            "455/455 [==============================] - 0s 441us/sample - loss: 0.1237 - accuracy: 0.9582 - val_loss: 0.0857 - val_accuracy: 0.9649\n",
            "Epoch 44/100\n",
            "455/455 [==============================] - 0s 464us/sample - loss: 0.1345 - accuracy: 0.9516 - val_loss: 0.0858 - val_accuracy: 0.9649\n",
            "Epoch 45/100\n",
            "455/455 [==============================] - 0s 460us/sample - loss: 0.1362 - accuracy: 0.9538 - val_loss: 0.0863 - val_accuracy: 0.9649\n",
            "Epoch 46/100\n",
            "455/455 [==============================] - 0s 525us/sample - loss: 0.1190 - accuracy: 0.9538 - val_loss: 0.0848 - val_accuracy: 0.9737\n",
            "Epoch 47/100\n",
            "455/455 [==============================] - 0s 452us/sample - loss: 0.1159 - accuracy: 0.9560 - val_loss: 0.0849 - val_accuracy: 0.9737\n",
            "Epoch 48/100\n",
            "455/455 [==============================] - 0s 436us/sample - loss: 0.1430 - accuracy: 0.9451 - val_loss: 0.0856 - val_accuracy: 0.9737\n",
            "Epoch 49/100\n",
            "455/455 [==============================] - 0s 460us/sample - loss: 0.1480 - accuracy: 0.9385 - val_loss: 0.0868 - val_accuracy: 0.9737\n",
            "Epoch 50/100\n",
            "455/455 [==============================] - 0s 441us/sample - loss: 0.1170 - accuracy: 0.9516 - val_loss: 0.0860 - val_accuracy: 0.9737\n",
            "Epoch 51/100\n",
            "455/455 [==============================] - 0s 445us/sample - loss: 0.0980 - accuracy: 0.9604 - val_loss: 0.0855 - val_accuracy: 0.9737\n",
            "Epoch 52/100\n",
            "455/455 [==============================] - 0s 458us/sample - loss: 0.1494 - accuracy: 0.9451 - val_loss: 0.0852 - val_accuracy: 0.9737\n",
            "Epoch 53/100\n",
            "455/455 [==============================] - 0s 441us/sample - loss: 0.1258 - accuracy: 0.9451 - val_loss: 0.0859 - val_accuracy: 0.9737\n",
            "Epoch 54/100\n",
            "455/455 [==============================] - 0s 434us/sample - loss: 0.1157 - accuracy: 0.9538 - val_loss: 0.0862 - val_accuracy: 0.9737\n",
            "Epoch 55/100\n",
            "455/455 [==============================] - 0s 432us/sample - loss: 0.0990 - accuracy: 0.9560 - val_loss: 0.0860 - val_accuracy: 0.9737\n",
            "Epoch 56/100\n",
            "455/455 [==============================] - 0s 425us/sample - loss: 0.1183 - accuracy: 0.9604 - val_loss: 0.0868 - val_accuracy: 0.9737\n",
            "Epoch 57/100\n",
            "455/455 [==============================] - 0s 461us/sample - loss: 0.1116 - accuracy: 0.9560 - val_loss: 0.0846 - val_accuracy: 0.9737\n",
            "Epoch 58/100\n",
            "455/455 [==============================] - 0s 441us/sample - loss: 0.1130 - accuracy: 0.9604 - val_loss: 0.0830 - val_accuracy: 0.9737\n",
            "Epoch 59/100\n",
            "455/455 [==============================] - 0s 476us/sample - loss: 0.1302 - accuracy: 0.9582 - val_loss: 0.0829 - val_accuracy: 0.9737\n",
            "Epoch 60/100\n",
            "455/455 [==============================] - 0s 447us/sample - loss: 0.1036 - accuracy: 0.9692 - val_loss: 0.0842 - val_accuracy: 0.9737\n",
            "Epoch 61/100\n",
            "455/455 [==============================] - 0s 457us/sample - loss: 0.1034 - accuracy: 0.9626 - val_loss: 0.0842 - val_accuracy: 0.9737\n",
            "Epoch 62/100\n",
            "455/455 [==============================] - 0s 450us/sample - loss: 0.0945 - accuracy: 0.9604 - val_loss: 0.0850 - val_accuracy: 0.9737\n",
            "Epoch 63/100\n",
            "455/455 [==============================] - 0s 446us/sample - loss: 0.1070 - accuracy: 0.9604 - val_loss: 0.0852 - val_accuracy: 0.9737\n",
            "Epoch 64/100\n",
            "455/455 [==============================] - 0s 442us/sample - loss: 0.0982 - accuracy: 0.9692 - val_loss: 0.0851 - val_accuracy: 0.9737\n",
            "Epoch 65/100\n",
            "455/455 [==============================] - 0s 438us/sample - loss: 0.1076 - accuracy: 0.9582 - val_loss: 0.0859 - val_accuracy: 0.9737\n",
            "Epoch 66/100\n",
            "455/455 [==============================] - 0s 475us/sample - loss: 0.0872 - accuracy: 0.9692 - val_loss: 0.0867 - val_accuracy: 0.9737\n",
            "Epoch 67/100\n",
            "455/455 [==============================] - 0s 431us/sample - loss: 0.0901 - accuracy: 0.9626 - val_loss: 0.0863 - val_accuracy: 0.9737\n",
            "Epoch 68/100\n",
            "455/455 [==============================] - 0s 442us/sample - loss: 0.0942 - accuracy: 0.9626 - val_loss: 0.0866 - val_accuracy: 0.9737\n",
            "Epoch 69/100\n",
            "455/455 [==============================] - 0s 444us/sample - loss: 0.1193 - accuracy: 0.9582 - val_loss: 0.0859 - val_accuracy: 0.9737\n",
            "Epoch 70/100\n",
            "455/455 [==============================] - 0s 454us/sample - loss: 0.1143 - accuracy: 0.9560 - val_loss: 0.0847 - val_accuracy: 0.9737\n",
            "Epoch 71/100\n",
            "455/455 [==============================] - 0s 416us/sample - loss: 0.0866 - accuracy: 0.9736 - val_loss: 0.0853 - val_accuracy: 0.9737\n",
            "Epoch 72/100\n",
            "455/455 [==============================] - 0s 435us/sample - loss: 0.0877 - accuracy: 0.9648 - val_loss: 0.0862 - val_accuracy: 0.9737\n",
            "Epoch 73/100\n",
            "455/455 [==============================] - 0s 426us/sample - loss: 0.0992 - accuracy: 0.9626 - val_loss: 0.0859 - val_accuracy: 0.9737\n",
            "Epoch 74/100\n",
            "455/455 [==============================] - 0s 405us/sample - loss: 0.0795 - accuracy: 0.9670 - val_loss: 0.0853 - val_accuracy: 0.9737\n",
            "Epoch 75/100\n",
            "455/455 [==============================] - 0s 443us/sample - loss: 0.0855 - accuracy: 0.9626 - val_loss: 0.0847 - val_accuracy: 0.9737\n",
            "Epoch 76/100\n",
            "455/455 [==============================] - 0s 434us/sample - loss: 0.0911 - accuracy: 0.9714 - val_loss: 0.0854 - val_accuracy: 0.9737\n",
            "Epoch 77/100\n",
            "455/455 [==============================] - 0s 410us/sample - loss: 0.0684 - accuracy: 0.9714 - val_loss: 0.0864 - val_accuracy: 0.9737\n",
            "Epoch 78/100\n",
            "455/455 [==============================] - 0s 430us/sample - loss: 0.0967 - accuracy: 0.9626 - val_loss: 0.0849 - val_accuracy: 0.9737\n",
            "Epoch 79/100\n",
            "455/455 [==============================] - 0s 425us/sample - loss: 0.0929 - accuracy: 0.9714 - val_loss: 0.0846 - val_accuracy: 0.9737\n",
            "Epoch 80/100\n",
            "455/455 [==============================] - 0s 416us/sample - loss: 0.0601 - accuracy: 0.9824 - val_loss: 0.0838 - val_accuracy: 0.9737\n",
            "Epoch 81/100\n",
            "455/455 [==============================] - 0s 421us/sample - loss: 0.0823 - accuracy: 0.9736 - val_loss: 0.0846 - val_accuracy: 0.9737\n",
            "Epoch 82/100\n",
            "455/455 [==============================] - 0s 423us/sample - loss: 0.0836 - accuracy: 0.9714 - val_loss: 0.0838 - val_accuracy: 0.9737\n",
            "Epoch 83/100\n",
            "455/455 [==============================] - 0s 407us/sample - loss: 0.0726 - accuracy: 0.9692 - val_loss: 0.0847 - val_accuracy: 0.9737\n",
            "Epoch 84/100\n",
            "455/455 [==============================] - 0s 415us/sample - loss: 0.0879 - accuracy: 0.9736 - val_loss: 0.0852 - val_accuracy: 0.9737\n",
            "Epoch 85/100\n",
            "455/455 [==============================] - 0s 433us/sample - loss: 0.0745 - accuracy: 0.9736 - val_loss: 0.0852 - val_accuracy: 0.9737\n",
            "Epoch 86/100\n",
            "455/455 [==============================] - 0s 409us/sample - loss: 0.1014 - accuracy: 0.9626 - val_loss: 0.0829 - val_accuracy: 0.9737\n",
            "Epoch 87/100\n",
            "455/455 [==============================] - 0s 425us/sample - loss: 0.0699 - accuracy: 0.9736 - val_loss: 0.0829 - val_accuracy: 0.9737\n",
            "Epoch 88/100\n",
            "455/455 [==============================] - 0s 392us/sample - loss: 0.0779 - accuracy: 0.9670 - val_loss: 0.0829 - val_accuracy: 0.9737\n",
            "Epoch 89/100\n",
            "455/455 [==============================] - 0s 420us/sample - loss: 0.0793 - accuracy: 0.9758 - val_loss: 0.0825 - val_accuracy: 0.9737\n",
            "Epoch 90/100\n",
            "455/455 [==============================] - 0s 391us/sample - loss: 0.0818 - accuracy: 0.9714 - val_loss: 0.0818 - val_accuracy: 0.9737\n",
            "Epoch 91/100\n",
            "455/455 [==============================] - 0s 404us/sample - loss: 0.1140 - accuracy: 0.9560 - val_loss: 0.0806 - val_accuracy: 0.9737\n",
            "Epoch 92/100\n",
            "455/455 [==============================] - 0s 429us/sample - loss: 0.0518 - accuracy: 0.9758 - val_loss: 0.0810 - val_accuracy: 0.9737\n",
            "Epoch 93/100\n",
            "455/455 [==============================] - 0s 434us/sample - loss: 0.0950 - accuracy: 0.9714 - val_loss: 0.0798 - val_accuracy: 0.9737\n",
            "Epoch 94/100\n",
            "455/455 [==============================] - 0s 429us/sample - loss: 0.1037 - accuracy: 0.9582 - val_loss: 0.0810 - val_accuracy: 0.9737\n",
            "Epoch 95/100\n",
            "455/455 [==============================] - 0s 444us/sample - loss: 0.0703 - accuracy: 0.9758 - val_loss: 0.0803 - val_accuracy: 0.9737\n",
            "Epoch 96/100\n",
            "455/455 [==============================] - 0s 441us/sample - loss: 0.0985 - accuracy: 0.9648 - val_loss: 0.0801 - val_accuracy: 0.9737\n",
            "Epoch 97/100\n",
            "455/455 [==============================] - 0s 450us/sample - loss: 0.0903 - accuracy: 0.9604 - val_loss: 0.0784 - val_accuracy: 0.9737\n",
            "Epoch 98/100\n",
            "455/455 [==============================] - 0s 531us/sample - loss: 0.0890 - accuracy: 0.9670 - val_loss: 0.0779 - val_accuracy: 0.9737\n",
            "Epoch 99/100\n",
            "455/455 [==============================] - 0s 435us/sample - loss: 0.0706 - accuracy: 0.9802 - val_loss: 0.0780 - val_accuracy: 0.9737\n",
            "Epoch 100/100\n",
            "455/455 [==============================] - 0s 470us/sample - loss: 0.0754 - accuracy: 0.9692 - val_loss: 0.0806 - val_accuracy: 0.9737\n"
          ],
          "name": "stdout"
        }
      ]
    },
    {
      "cell_type": "code",
      "metadata": {
        "id": "ajSxkbP4l7O-",
        "colab_type": "code",
        "colab": {}
      },
      "source": [
        "def plot_learningcurve(history,epochs):\n",
        "  epoch_range = range(1,epochs+1)\n",
        "  plt.plot(epoch_range,history.history['accuracy'])\n",
        "  plt.plot(epoch_range,history.history['val_accuracy'])\n",
        "  plt.title('model accuracy')\n",
        "  plt.ylabel('accuracy')\n",
        "  plt.xlabel('epoch')\n",
        "  plt.legend(['train','val'],loc='upper left')\n",
        "  plt.show()\n",
        "\n",
        "  plt.plot(epoch_range,history.history['loss'])\n",
        "  plt.plot(epoch_range,history.history['val_loss'])\n",
        "  plt.title('model loss')\n",
        "  plt.ylabel('loss')\n",
        "  plt.xlabel('epoch')\n",
        "  plt.legend(['train','val'],loc='upper left')\n",
        "  plt.show()"
      ],
      "execution_count": 0,
      "outputs": []
    },
    {
      "cell_type": "code",
      "metadata": {
        "id": "bWu6k9PcmPX2",
        "colab_type": "code",
        "outputId": "8d4fff97-84a7-4673-9b33-1c86b3535e99",
        "colab": {
          "base_uri": "https://localhost:8080/",
          "height": 573
        }
      },
      "source": [
        "plot_learningcurve(history,epochs)"
      ],
      "execution_count": 0,
      "outputs": [
        {
          "output_type": "display_data",
          "data": {
            "image/png": "[encoded data removed]",
            "text/plain": [
              "<Figure size 432x288 with 1 Axes>"
            ]
          },
          "metadata": {
            "tags": []
          }
        },
        {
          "output_type": "display_data",
          "data": {
            "image/png": "[encoded data removed]",
            "text/plain": [
              "<Figure size 432x288 with 1 Axes>"
            ]
          },
          "metadata": {
            "tags": []
          }
        }
      ]
    },
    {
      "cell_type": "code",
      "metadata": {
        "id": "7aTDJMNzmThe",
        "colab_type": "code",
        "colab": {}
      },
      "source": [
        ""
      ],
      "execution_count": 0,
      "outputs": []
    }
  ]
}